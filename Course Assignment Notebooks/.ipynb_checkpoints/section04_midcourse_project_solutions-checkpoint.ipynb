{
 "cells": [
  {
   "cell_type": "markdown",
   "id": "5753e0de",
   "metadata": {},
   "source": [
    "# Dashboard 1: Ski Resort Slope Density\n",
    "\n",
    "Build an Application containing a density mapbox graph that displays color intensity based on `Total slopes`. This map should be centered roughly on the US/Canada.\n",
    "\n",
    "* Add a slider to this application that filters the resorts mapped to those with a Price below the value selected in the slider.\n",
    "* Add a radio button that toggles between resorts with night skiing and without night skiing. \n",
    "* Consider making your title dynamic based on the price input\n",
    "\n",
    "\n"
   ]
  },
  {
   "cell_type": "code",
   "execution_count": 5,
   "id": "3b7d8c5d",
   "metadata": {},
   "outputs": [
    {
     "data": {
      "text/html": [
       "\n",
       "        <iframe\n",
       "            width=\"100%\"\n",
       "            height=\"650\"\n",
       "            src=\"http://127.0.0.1:8765/\"\n",
       "            frameborder=\"0\"\n",
       "            allowfullscreen\n",
       "            \n",
       "        ></iframe>\n",
       "        "
      ],
      "text/plain": [
       "<IPython.lib.display.IFrame at 0x7fce31d4ee80>"
      ]
     },
     "metadata": {},
     "output_type": "display_data"
    }
   ],
   "source": [
    "from jupyter_dash import JupyterDash\n",
    "from dash import dcc, html\n",
    "from dash.dependencies import Output, Input\n",
    "from dash.exceptions import PreventUpdate\n",
    "\n",
    "import plotly.express as px\n",
    "import pandas as pd\n",
    "\n",
    "resorts = (\n",
    "    pd.read_csv(\"../Data/Ski Resorts/resorts.csv\", encoding = \"ISO-8859-1\")\n",
    "    .query(\"Country in ['United States', 'Canada']\")\n",
    ")\n",
    "\n",
    "app = JupyterDash(__name__)\n",
    "\n",
    "app.layout = html.Div([\n",
    "    html.H1(id=\"title\"),\n",
    "    dcc.Slider(id=\"price-slider\", min=0, max=150, step=10, value=150),\n",
    "    dcc.RadioItems(\n",
    "        id=\"night-ski-toggle\", \n",
    "        options=[\n",
    "            {\"label\": \"Has Night Skiing\", \"value\": \"Yes\"},\n",
    "            {\"label\": \"No Night Skiing\", \"value\": \"No\"}],\n",
    "        value=\"No\"\n",
    "    ),\n",
    "    dcc.Graph(id=\"resort-map\"),\n",
    "])\n",
    "\n",
    "\n",
    "@app.callback(\n",
    "    Output(\"title\", \"children\"),\n",
    "    Output(\"resort-map\", \"figure\"),\n",
    "    Input(\"price-slider\", \"value\"),\n",
    "    Input(\"night-ski-toggle\", \"value\")\n",
    ")\n",
    "\n",
    "def snow_map(price, night_ski):\n",
    "    \n",
    "    title = f\"Resorts with a ticket price less than ${price}.\"   \n",
    "    \n",
    "    df = resorts.loc[(resorts[\"Price\"] < price) & (resorts[\"Nightskiing\"] == night_ski)]\n",
    "    \n",
    "    fig = px.density_mapbox(\n",
    "        df,\n",
    "        lat=\"Latitude\",\n",
    "        lon=\"Longitude\",\n",
    "        z=\"Total slopes\",\n",
    "        hover_name=\"Resort\",\n",
    "        center={\"lat\": 45, \"lon\": -100},\n",
    "        zoom=2.5,\n",
    "        mapbox_style=\"stamen-terrain\",\n",
    "        color_continuous_scale=\"blues\",\n",
    "#         width=1000,\n",
    "#         height=800\n",
    "    )\n",
    "\n",
    "    return title, fig\n",
    "\n",
    "app.run_server(debug=True, mode=\"inline\", port=8765)"
   ]
  },
  {
   "cell_type": "markdown",
   "id": "a4ca5379",
   "metadata": {},
   "source": [
    "# Dashboard 2: Top Resorts by Selected Metric\n",
    "\n",
    "Build an Application that outputs a bar chart of the top 10 resorts based on the dataframe column users select in a dropdown menu. \n",
    "\n",
    "* Add a checklist to allow users to select whether they want to limit results to Canada, the US, or include both countries. \n",
    "* Add a radio button that toggles between resorts with night skiing and without night skiing. \n",
    "* Add an interactive element that allows users to select whether they want to sort the plotted dataframe in ascending or descending order. \n",
    "* Consider making your app title dynamic based on the column selected. \n"
   ]
  },
  {
   "cell_type": "code",
   "execution_count": 7,
   "id": "cbcec181",
   "metadata": {},
   "outputs": [
    {
     "data": {
      "text/html": [
       "\n",
       "        <iframe\n",
       "            width=\"100%\"\n",
       "            height=\"650\"\n",
       "            src=\"http://127.0.0.1:8666/\"\n",
       "            frameborder=\"0\"\n",
       "            allowfullscreen\n",
       "            \n",
       "        ></iframe>\n",
       "        "
      ],
      "text/plain": [
       "<IPython.lib.display.IFrame at 0x7fce28f2ba60>"
      ]
     },
     "metadata": {},
     "output_type": "display_data"
    }
   ],
   "source": [
    "from jupyter_dash import JupyterDash\n",
    "from dash import dcc, html\n",
    "from dash.dependencies import Output, Input\n",
    "from dash.exceptions import PreventUpdate\n",
    "\n",
    "import plotly.express as px\n",
    "import pandas as pd\n",
    "\n",
    "resorts = (\n",
    "    pd.read_csv(\"../Data/Ski Resorts/resorts.csv\", encoding = \"ISO-8859-1\")\n",
    "    .query(\"Country in ['United States', 'Canada']\")\n",
    ")\n",
    "\n",
    "app = JupyterDash(__name__)\n",
    "\n",
    "app.layout = html.Div([\n",
    "    html.H1(id=\"title\"),\n",
    "    dcc.Checklist(\n",
    "        id=\"country-checklist\", \n",
    "        options=[\"Canada\", \"United States\"],\n",
    "        value=[\"Canada\", \"United States\"],\n",
    "    ),\n",
    "    dcc.Dropdown(\n",
    "        id=\"column-picker\", \n",
    "        options=resorts.select_dtypes(\"number\").columns[3:],\n",
    "        value=\"Price\"\n",
    " ),\n",
    "    dcc.RadioItems(\n",
    "        id=\"ascending-selector\", \n",
    "        options=[\n",
    "            {\"label\": \"Ascending\", \"value\": True},\n",
    "            {\"label\": \"Descending\", \"value\": False}],\n",
    "        value=False,\n",
    "    ),\n",
    "    dcc.Graph(id=\"metric-bar\"),\n",
    "], style={\"width\":1200})\n",
    "\n",
    "\n",
    "@app.callback(\n",
    "    Output(\"title\", \"children\"),\n",
    "    Output(\"metric-bar\", \"figure\"),\n",
    "    Input(\"country-checklist\", \"value\"),\n",
    "    Input(\"column-picker\", \"value\"),\n",
    "    Input(\"ascending-selector\", \"value\")\n",
    ")\n",
    "\n",
    "def snow_map(country, column, ascending):\n",
    "    \n",
    "    title = f\"Top 10 resorts by {column}\"  \n",
    "    \n",
    "    df = resorts.query(\"Country in @country\")\n",
    "    \n",
    "    fig = px.bar(\n",
    "        df.sort_values(column, ascending=ascending).iloc[:10],\n",
    "        x=\"Resort\",\n",
    "        y=column,\n",
    "#         color=\"Country\",\n",
    "        width=1000,\n",
    "        height=800\n",
    "    )\n",
    "\n",
    "    return title, fig\n",
    "\n",
    "app.run_server(debug=True, mode=\"inline\", port=8666)"
   ]
  },
  {
   "cell_type": "code",
   "execution_count": null,
   "id": "04af023c",
   "metadata": {},
   "outputs": [],
   "source": []
  }
 ],
 "metadata": {
  "kernelspec": {
   "display_name": "Python 3 (ipykernel)",
   "language": "python",
   "name": "python3"
  },
  "language_info": {
   "codemirror_mode": {
    "name": "ipython",
    "version": 3
   },
   "file_extension": ".py",
   "mimetype": "text/x-python",
   "name": "python",
   "nbconvert_exporter": "python",
   "pygments_lexer": "ipython3",
   "version": "3.9.13"
  }
 },
 "nbformat": 4,
 "nbformat_minor": 5
}
